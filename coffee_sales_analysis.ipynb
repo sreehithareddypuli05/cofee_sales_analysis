{
 "cells": [
  {
   "cell_type": "markdown",
   "id": "46bf1c0c",
   "metadata": {},
   "source": [
    "# Coffee Sales Analysis\n",
    "\n",
    "This notebook analyzes daily coffee shop sales using a small CSV dataset. We will perform exploratory data analysis (EDA), statistical testing, and create visualizations to gain insights into sales patterns."
   ]
  },
  {
   "cell_type": "code",
   "execution_count": 3,
   "id": "55e3e58c",
   "metadata": {},
   "outputs": [],
   "source": [
    "# Import Required Libraries\n",
    "import pandas as pd\n",
    "import numpy as np\n",
    "import matplotlib.pyplot as plt\n",
    "import seaborn as sns\n",
    "from scipy import stats\n",
    "\n",
    "# Set plot style\n",
    "sns.set(style=\"whitegrid\")"
   ]
  },
  {
   "cell_type": "markdown",
   "id": "852b7d83",
   "metadata": {},
   "source": [
    "## Load and Preview the Dataset\n",
    "\n",
    "Load the CSV file containing daily coffee shop sales and display the first few rows."
   ]
  },
  {
   "cell_type": "code",
   "execution_count": 4,
   "id": "b3f66851",
   "metadata": {},
   "outputs": [
    {
     "data": {
      "text/html": [
       "<div>\n",
       "<style scoped>\n",
       "    .dataframe tbody tr th:only-of-type {\n",
       "        vertical-align: middle;\n",
       "    }\n",
       "\n",
       "    .dataframe tbody tr th {\n",
       "        vertical-align: top;\n",
       "    }\n",
       "\n",
       "    .dataframe thead th {\n",
       "        text-align: right;\n",
       "    }\n",
       "</style>\n",
       "<table border=\"1\" class=\"dataframe\">\n",
       "  <thead>\n",
       "    <tr style=\"text-align: right;\">\n",
       "      <th></th>\n",
       "      <th>date</th>\n",
       "      <th>product</th>\n",
       "      <th>price</th>\n",
       "      <th>quantity</th>\n",
       "    </tr>\n",
       "  </thead>\n",
       "  <tbody>\n",
       "    <tr>\n",
       "      <th>0</th>\n",
       "      <td>2025-07-15</td>\n",
       "      <td>Espresso</td>\n",
       "      <td>2.5</td>\n",
       "      <td>30</td>\n",
       "    </tr>\n",
       "    <tr>\n",
       "      <th>1</th>\n",
       "      <td>2025-07-15</td>\n",
       "      <td>Cappuccino</td>\n",
       "      <td>3.0</td>\n",
       "      <td>25</td>\n",
       "    </tr>\n",
       "    <tr>\n",
       "      <th>2</th>\n",
       "      <td>2025-07-15</td>\n",
       "      <td>Latte</td>\n",
       "      <td>3.5</td>\n",
       "      <td>20</td>\n",
       "    </tr>\n",
       "    <tr>\n",
       "      <th>3</th>\n",
       "      <td>2025-07-16</td>\n",
       "      <td>Espresso</td>\n",
       "      <td>2.5</td>\n",
       "      <td>28</td>\n",
       "    </tr>\n",
       "    <tr>\n",
       "      <th>4</th>\n",
       "      <td>2025-07-16</td>\n",
       "      <td>Cappuccino</td>\n",
       "      <td>3.0</td>\n",
       "      <td>30</td>\n",
       "    </tr>\n",
       "  </tbody>\n",
       "</table>\n",
       "</div>"
      ],
      "text/plain": [
       "        date     product  price  quantity\n",
       "0 2025-07-15    Espresso    2.5        30\n",
       "1 2025-07-15  Cappuccino    3.0        25\n",
       "2 2025-07-15       Latte    3.5        20\n",
       "3 2025-07-16    Espresso    2.5        28\n",
       "4 2025-07-16  Cappuccino    3.0        30"
      ]
     },
     "execution_count": 4,
     "metadata": {},
     "output_type": "execute_result"
    }
   ],
   "source": [
    "# Load the dataset\n",
    "sales_df = pd.read_csv('coffee_sales.csv', parse_dates=['date'])\n",
    "sales_df.head()"
   ]
  },
  {
   "cell_type": "markdown",
   "id": "5c621e22",
   "metadata": {},
   "source": [
    "## Basic Data Cleaning\n",
    "\n",
    "Check for missing values, correct data types, and handle any inconsistencies in the dataset."
   ]
  },
  {
   "cell_type": "code",
   "execution_count": 5,
   "id": "185edb2d",
   "metadata": {},
   "outputs": [
    {
     "name": "stdout",
     "output_type": "stream",
     "text": [
      "Missing values per column:\n",
      " date        0\n",
      "product     0\n",
      "price       0\n",
      "quantity    0\n",
      "dtype: int64\n",
      "\n",
      "Data types:\n",
      " date        datetime64[ns]\n",
      "product             object\n",
      "price              float64\n",
      "quantity             int64\n",
      "dtype: object\n"
     ]
    },
    {
     "data": {
      "text/html": [
       "<div>\n",
       "<style scoped>\n",
       "    .dataframe tbody tr th:only-of-type {\n",
       "        vertical-align: middle;\n",
       "    }\n",
       "\n",
       "    .dataframe tbody tr th {\n",
       "        vertical-align: top;\n",
       "    }\n",
       "\n",
       "    .dataframe thead th {\n",
       "        text-align: right;\n",
       "    }\n",
       "</style>\n",
       "<table border=\"1\" class=\"dataframe\">\n",
       "  <thead>\n",
       "    <tr style=\"text-align: right;\">\n",
       "      <th></th>\n",
       "      <th>date</th>\n",
       "      <th>price</th>\n",
       "      <th>quantity</th>\n",
       "    </tr>\n",
       "  </thead>\n",
       "  <tbody>\n",
       "    <tr>\n",
       "      <th>count</th>\n",
       "      <td>48</td>\n",
       "      <td>48.000000</td>\n",
       "      <td>48.000000</td>\n",
       "    </tr>\n",
       "    <tr>\n",
       "      <th>mean</th>\n",
       "      <td>2025-07-22 12:00:00</td>\n",
       "      <td>3.000000</td>\n",
       "      <td>30.458333</td>\n",
       "    </tr>\n",
       "    <tr>\n",
       "      <th>min</th>\n",
       "      <td>2025-07-15 00:00:00</td>\n",
       "      <td>2.500000</td>\n",
       "      <td>18.000000</td>\n",
       "    </tr>\n",
       "    <tr>\n",
       "      <th>25%</th>\n",
       "      <td>2025-07-18 18:00:00</td>\n",
       "      <td>2.500000</td>\n",
       "      <td>25.750000</td>\n",
       "    </tr>\n",
       "    <tr>\n",
       "      <th>50%</th>\n",
       "      <td>2025-07-22 12:00:00</td>\n",
       "      <td>3.000000</td>\n",
       "      <td>30.000000</td>\n",
       "    </tr>\n",
       "    <tr>\n",
       "      <th>75%</th>\n",
       "      <td>2025-07-26 06:00:00</td>\n",
       "      <td>3.500000</td>\n",
       "      <td>35.000000</td>\n",
       "    </tr>\n",
       "    <tr>\n",
       "      <th>max</th>\n",
       "      <td>2025-07-30 00:00:00</td>\n",
       "      <td>3.500000</td>\n",
       "      <td>47.000000</td>\n",
       "    </tr>\n",
       "    <tr>\n",
       "      <th>std</th>\n",
       "      <td>NaN</td>\n",
       "      <td>0.412568</td>\n",
       "      <td>6.760204</td>\n",
       "    </tr>\n",
       "  </tbody>\n",
       "</table>\n",
       "</div>"
      ],
      "text/plain": [
       "                      date      price   quantity\n",
       "count                   48  48.000000  48.000000\n",
       "mean   2025-07-22 12:00:00   3.000000  30.458333\n",
       "min    2025-07-15 00:00:00   2.500000  18.000000\n",
       "25%    2025-07-18 18:00:00   2.500000  25.750000\n",
       "50%    2025-07-22 12:00:00   3.000000  30.000000\n",
       "75%    2025-07-26 06:00:00   3.500000  35.000000\n",
       "max    2025-07-30 00:00:00   3.500000  47.000000\n",
       "std                    NaN   0.412568   6.760204"
      ]
     },
     "execution_count": 5,
     "metadata": {},
     "output_type": "execute_result"
    }
   ],
   "source": [
    "# Check for missing values and data types\n",
    "print(\"Missing values per column:\\n\", sales_df.isnull().sum())\n",
    "print(\"\\nData types:\\n\", sales_df.dtypes)\n",
    "\n",
    "# Show summary statistics\n",
    "sales_df.describe()"
   ]
  },
  {
   "cell_type": "markdown",
   "id": "618dc02b",
   "metadata": {},
   "source": [
    "## Calculate Average Sales Per Day\n",
    "\n",
    "Compute the average daily sales from the dataset."
   ]
  },
  {
   "cell_type": "code",
   "execution_count": 6,
   "id": "ff143b16",
   "metadata": {},
   "outputs": [
    {
     "name": "stdout",
     "output_type": "stream",
     "text": [
      "Average sales per day: $269.12\n"
     ]
    }
   ],
   "source": [
    "# Calculate total sales per day\n",
    "sales_df['total_sales'] = sales_df['price'] * sales_df['quantity']\n",
    "daily_sales = sales_df.groupby('date')['total_sales'].sum()\n",
    "\n",
    "# Compute average daily sales\n",
    "avg_daily_sales = daily_sales.mean()\n",
    "print(f\"Average sales per day: ${avg_daily_sales:.2f}\")"
   ]
  },
  {
   "cell_type": "markdown",
   "id": "07904cd5",
   "metadata": {},
   "source": [
    "## Identify Best-Selling Product\n",
    "\n",
    "Determine which coffee product has the highest total sales."
   ]
  },
  {
   "cell_type": "code",
   "execution_count": 7,
   "id": "c65ef18c",
   "metadata": {},
   "outputs": [
    {
     "name": "stdout",
     "output_type": "stream",
     "text": [
      "Best-selling product: Cappuccino ($1464.00 in sales)\n"
     ]
    }
   ],
   "source": [
    "# Calculate total sales per product\n",
    "product_sales = sales_df.groupby('product')['total_sales'].sum()\n",
    "best_selling_product = product_sales.idxmax()\n",
    "best_selling_value = product_sales.max()\n",
    "print(f\"Best-selling product: {best_selling_product} (${best_selling_value:.2f} in sales)\")"
   ]
  },
  {
   "cell_type": "markdown",
   "id": "7a23d8c4",
   "metadata": {},
   "source": [
    "## Find Busiest Days\n",
    "\n",
    "Identify the days with the highest sales volume."
   ]
  },
  {
   "cell_type": "code",
   "execution_count": 8,
   "id": "85596565",
   "metadata": {},
   "outputs": [
    {
     "name": "stdout",
     "output_type": "stream",
     "text": [
      "Busiest days (top 5 by sales):\n",
      "date\n",
      "2025-07-27    360.0\n",
      "2025-07-20    342.0\n",
      "2025-07-26    324.5\n",
      "2025-07-19    310.0\n",
      "2025-07-25    298.5\n",
      "Name: total_sales, dtype: float64\n"
     ]
    }
   ],
   "source": [
    "# Find the days with the highest sales volume\n",
    "busiest_days = daily_sales.sort_values(ascending=False).head(5)\n",
    "print(\"Busiest days (top 5 by sales):\")\n",
    "print(busiest_days)"
   ]
  },
  {
   "cell_type": "markdown",
   "id": "b9fa6310",
   "metadata": {},
   "source": [
    "## Hypothesis Test: Weekend vs. Weekday Sales\n",
    "\n",
    "Perform a statistical test (e.g., t-test) to determine if weekend sales are significantly higher than weekday sales."
   ]
  },
  {
   "cell_type": "code",
   "execution_count": 9,
   "id": "140be8fe",
   "metadata": {},
   "outputs": [
    {
     "name": "stdout",
     "output_type": "stream",
     "text": [
      "T-test statistic: 6.29, p-value: 0.0004\n",
      "Result: Weekends have significantly different sales than weekdays (p < 0.05)\n"
     ]
    }
   ],
   "source": [
    "# Add a column for day of week\n",
    "sales_df['day_of_week'] = sales_df['date'].dt.dayofweek\n",
    "# 5 = Saturday, 6 = Sunday\n",
    "sales_df['is_weekend'] = sales_df['day_of_week'] >= 5\n",
    "\n",
    "# Aggregate daily sales with weekend flag\n",
    "daily_sales_df = sales_df.groupby(['date', 'is_weekend'])['total_sales'].sum().reset_index()\n",
    "\n",
    "# Split into weekend and weekday sales\n",
    "weekend_sales = daily_sales_df[daily_sales_df['is_weekend']]['total_sales']\n",
    "weekday_sales = daily_sales_df[~daily_sales_df['is_weekend']]['total_sales']\n",
    "\n",
    "# Perform t-test\n",
    "t_stat, p_value = stats.ttest_ind(weekend_sales, weekday_sales, equal_var=False)\n",
    "print(f\"T-test statistic: {t_stat:.2f}, p-value: {p_value:.4f}\")\n",
    "if p_value < 0.05:\n",
    "    print(\"Result: Weekends have significantly different sales than weekdays (p < 0.05)\")\n",
    "else:\n",
    "    print(\"Result: No significant difference between weekend and weekday sales (p >= 0.05)\")"
   ]
  },
  {
   "cell_type": "markdown",
   "id": "f6e0feb6",
   "metadata": {},
   "source": [
    "## Correlation: Coffee Price vs. Sales Volume\n",
    "\n",
    "Calculate and interpret the correlation between coffee price and sales volume."
   ]
  },
  {
   "cell_type": "code",
   "execution_count": 10,
   "id": "fe38f405",
   "metadata": {},
   "outputs": [
    {
     "name": "stdout",
     "output_type": "stream",
     "text": [
      "Correlation coefficient between price and sales volume: -0.61 (p-value: 0.0000)\n",
      "Result: Significant correlation.\n"
     ]
    }
   ],
   "source": [
    "# Calculate correlation between price and quantity sold\n",
    "corr, pval = stats.pearsonr(sales_df['price'], sales_df['quantity'])\n",
    "print(f\"Correlation coefficient between price and sales volume: {corr:.2f} (p-value: {pval:.4f})\")\n",
    "if pval < 0.05:\n",
    "    print(\"Result: Significant correlation.\")\n",
    "else:\n",
    "    print(\"Result: No significant correlation.\")"
   ]
  },
  {
   "cell_type": "markdown",
   "id": "b1fdc44f",
   "metadata": {},
   "source": [
    "## Bar Chart of Product Sales\n",
    "\n",
    "Create a bar chart to visualize total sales for each coffee product."
   ]
  },
  {
   "cell_type": "code",
   "execution_count": 11,
   "id": "7eb19b21",
   "metadata": {},
   "outputs": [
    {
     "name": "stderr",
     "output_type": "stream",
     "text": [
      "/tmp/ipykernel_12217/916769392.py:3: FutureWarning: \n",
      "\n",
      "Passing `palette` without assigning `hue` is deprecated and will be removed in v0.14.0. Assign the `x` variable to `hue` and set `legend=False` for the same effect.\n",
      "\n",
      "  sns.barplot(x=product_sales.index, y=product_sales.values, palette=\"viridis\")\n"
     ]
    },
    {
     "data": {
      "image/png": "[encoded data removed]",
      "text/plain": [
       "<Figure size 800x500 with 1 Axes>"
      ]
     },
     "metadata": {},
     "output_type": "display_data"
    }
   ],
   "source": [
    "# Bar chart of total sales by product\n",
    "plt.figure(figsize=(8, 5))\n",
    "sns.barplot(x=product_sales.index, y=product_sales.values, palette=\"viridis\")\n",
    "plt.title('Total Sales by Product')\n",
    "plt.xlabel('Product')\n",
    "plt.ylabel('Total Sales ($)')\n",
    "plt.show()"
   ]
  },
  {
   "cell_type": "markdown",
   "id": "076e3ee2",
   "metadata": {},
   "source": [
    "## Line Chart of Sales Over Time\n",
    "\n",
    "Plot a line chart showing daily sales trends over the time period."
   ]
  },
  {
   "cell_type": "code",
   "execution_count": 12,
   "id": "73bb687b",
   "metadata": {},
   "outputs": [
    {
     "data": {
      "image/png": "[encoded data removed]",
      "text/plain": [
       "<Figure size 1000x500 with 1 Axes>"
      ]
     },
     "metadata": {},
     "output_type": "display_data"
    }
   ],
   "source": [
    "# Line chart of daily sales over time\n",
    "plt.figure(figsize=(10, 5))\n",
    "plt.plot(daily_sales.index, daily_sales.values, marker='o')\n",
    "plt.title('Daily Sales Over Time')\n",
    "plt.xlabel('Date')\n",
    "plt.ylabel('Total Sales ($)')\n",
    "plt.xticks(rotation=45)\n",
    "plt.tight_layout()\n",
    "plt.show()"
   ]
  }
 ],
 "metadata": {
  "kernelspec": {
   "display_name": "Python 3",
   "language": "python",
   "name": "python3"
  },
  "language_info": {
   "codemirror_mode": {
    "name": "ipython",
    "version": 3
   },
   "file_extension": ".py",
   "mimetype": "text/x-python",
   "name": "python",
   "nbconvert_exporter": "python",
   "pygments_lexer": "ipython3",
   "version": "3.10.12"
  }
 },
 "nbformat": 4,
 "nbformat_minor": 5
}
